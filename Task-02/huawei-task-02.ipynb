{
  "cells": [
    {
      "cell_type": "code",
      "source": [
        "!pip install mindspore"
      ],
      "metadata": {
        "colab": {
          "base_uri": "https://localhost:8080/",
          "height": 609
        },
        "id": "7ca-HbBqZtPz",
        "outputId": "a3a5bb9e-1a68-4eae-bc4a-fa6abf4864d0"
      },
      "id": "7ca-HbBqZtPz",
      "execution_count": 1,
      "outputs": [
        {
          "output_type": "stream",
          "name": "stdout",
          "text": [
            "Collecting mindspore\n",
            "  Downloading mindspore-1.6.1-cp37-cp37m-manylinux1_x86_64.whl (108.1 MB)\n",
            "\u001b[K     |████████████████████████████████| 108.1 MB 11 kB/s \n",
            "\u001b[?25hRequirement already satisfied: packaging>=20.0 in /usr/local/lib/python3.7/dist-packages (from mindspore) (21.3)\n",
            "Requirement already satisfied: protobuf>=3.13.0 in /usr/local/lib/python3.7/dist-packages (from mindspore) (3.17.3)\n",
            "Collecting psutil>=5.6.1\n",
            "  Downloading psutil-5.9.0-cp37-cp37m-manylinux_2_12_x86_64.manylinux2010_x86_64.manylinux_2_17_x86_64.manylinux2014_x86_64.whl (280 kB)\n",
            "\u001b[K     |████████████████████████████████| 280 kB 38.8 MB/s \n",
            "\u001b[?25hRequirement already satisfied: pillow>=6.2.0 in /usr/local/lib/python3.7/dist-packages (from mindspore) (7.1.2)\n",
            "Requirement already satisfied: numpy>=1.17.0 in /usr/local/lib/python3.7/dist-packages (from mindspore) (1.21.6)\n",
            "Collecting asttokens>=2.0.0\n",
            "  Downloading asttokens-2.0.5-py2.py3-none-any.whl (20 kB)\n",
            "Collecting scipy>=1.5.2\n",
            "  Downloading scipy-1.7.3-cp37-cp37m-manylinux_2_12_x86_64.manylinux2010_x86_64.whl (38.1 MB)\n",
            "\u001b[K     |████████████████████████████████| 38.1 MB 1.8 MB/s \n",
            "\u001b[?25hRequirement already satisfied: six in /usr/local/lib/python3.7/dist-packages (from asttokens>=2.0.0->mindspore) (1.15.0)\n",
            "Requirement already satisfied: pyparsing!=3.0.5,>=2.0.2 in /usr/local/lib/python3.7/dist-packages (from packaging>=20.0->mindspore) (3.0.8)\n",
            "Installing collected packages: scipy, psutil, asttokens, mindspore\n",
            "  Attempting uninstall: scipy\n",
            "    Found existing installation: scipy 1.4.1\n",
            "    Uninstalling scipy-1.4.1:\n",
            "      Successfully uninstalled scipy-1.4.1\n",
            "  Attempting uninstall: psutil\n",
            "    Found existing installation: psutil 5.4.8\n",
            "    Uninstalling psutil-5.4.8:\n",
            "      Successfully uninstalled psutil-5.4.8\n",
            "\u001b[31mERROR: pip's dependency resolver does not currently take into account all the packages that are installed. This behaviour is the source of the following dependency conflicts.\n",
            "albumentations 0.1.12 requires imgaug<0.2.7,>=0.2.5, but you have imgaug 0.2.9 which is incompatible.\u001b[0m\n",
            "Successfully installed asttokens-2.0.5 mindspore-1.6.1 psutil-5.9.0 scipy-1.7.3\n"
          ]
        },
        {
          "output_type": "display_data",
          "data": {
            "application/vnd.colab-display-data+json": {
              "pip_warning": {
                "packages": [
                  "psutil"
                ]
              }
            }
          },
          "metadata": {}
        }
      ]
    },
    {
      "cell_type": "code",
      "execution_count": 2,
      "id": "26594f2f-c924-40cb-bcde-e27366155950",
      "metadata": {
        "id": "26594f2f-c924-40cb-bcde-e27366155950"
      },
      "outputs": [],
      "source": [
        "from mindspore import context\n",
        "\n",
        "context.set_context(mode=context.GRAPH_MODE, device_target=\"CPU\")"
      ]
    },
    {
      "cell_type": "code",
      "execution_count": 3,
      "id": "1897e203-ceec-46dc-a194-df31d2e5fb5f",
      "metadata": {
        "id": "1897e203-ceec-46dc-a194-df31d2e5fb5f"
      },
      "outputs": [],
      "source": [
        "import numpy as np\n",
        "\n",
        "def get_data(num, w=2.0, b=3.0):\n",
        "    for _ in range(num):\n",
        "        x = np.random.uniform(-10.0, 10.0)\n",
        "        noise = np.random.normal(0, 1)\n",
        "        y = x * w + b + noise\n",
        "        yield np.array([x]).astype(np.float32), np.array([y]).astype(np.float32)"
      ]
    },
    {
      "cell_type": "code",
      "execution_count": 4,
      "id": "c285c653-9056-48a3-8694-cff0f6b5846d",
      "metadata": {
        "colab": {
          "base_uri": "https://localhost:8080/",
          "height": 281
        },
        "id": "c285c653-9056-48a3-8694-cff0f6b5846d",
        "outputId": "dfa70061-7218-47bd-afa5-95eeb7ec3ab9"
      },
      "outputs": [
        {
          "output_type": "display_data",
          "data": {
            "text/plain": [
              "<Figure size 432x288 with 1 Axes>"
            ],
            "image/png": "[encoded data removed]"
          },
          "metadata": {
            "needs_background": "light"
          }
        }
      ],
      "source": [
        "import matplotlib.pyplot as plt\n",
        "\n",
        "eval_data = list(get_data(50))\n",
        "x_target_label = np.array([-10, 10, 0.1])\n",
        "y_target_label = x_target_label * 2 + 3\n",
        "x_eval_label, y_eval_label = zip(*eval_data)\n",
        "\n",
        "plt.scatter(x_eval_label, y_eval_label, color=\"red\", s=5)\n",
        "plt.plot(x_target_label, y_target_label, color=\"green\")\n",
        "plt.title(\"Eval data\")\n",
        "plt.show()"
      ]
    },
    {
      "cell_type": "code",
      "execution_count": 5,
      "id": "1846af48-b880-4001-bbba-6c05e44a7a3d",
      "metadata": {
        "id": "1846af48-b880-4001-bbba-6c05e44a7a3d"
      },
      "outputs": [],
      "source": [
        "from mindspore import dataset as ds\n",
        "\n",
        "def create_dataset(num_data, batch_size=16, repeat_size=1):\n",
        "    input_data = ds.GeneratorDataset(list(get_data(num_data)), column_names=['data', 'label'])\n",
        "    input_data = input_data.batch(batch_size)\n",
        "    input_data = input_data.repeat(repeat_size)\n",
        "    return input_data"
      ]
    },
    {
      "cell_type": "code",
      "execution_count": 6,
      "id": "e366042a-5ff5-4063-99b5-360a461d49dd",
      "metadata": {
        "colab": {
          "base_uri": "https://localhost:8080/"
        },
        "id": "e366042a-5ff5-4063-99b5-360a461d49dd",
        "outputId": "a1a267ae-1aaf-47ca-8241-6612af2a2d03"
      },
      "outputs": [
        {
          "output_type": "stream",
          "name": "stdout",
          "text": [
            "The dataset size of ds_train: 100\n",
            "dict_keys(['data', 'label'])\n",
            "The x label value shape: (16, 1)\n",
            "The y label value shape: (16, 1)\n"
          ]
        }
      ],
      "source": [
        "data_number = 1600\n",
        "batch_number = 16\n",
        "repeat_number = 1\n",
        "\n",
        "ds_train = create_dataset(data_number, batch_size=batch_number, repeat_size=repeat_number)\n",
        "print(\"The dataset size of ds_train:\", ds_train.get_dataset_size())\n",
        "dict_datasets = next(ds_train.create_dict_iterator())\n",
        "\n",
        "print(dict_datasets.keys())\n",
        "print(\"The x label value shape:\", dict_datasets[\"data\"].shape)\n",
        "print(\"The y label value shape:\", dict_datasets[\"label\"].shape)"
      ]
    },
    {
      "cell_type": "code",
      "execution_count": 7,
      "id": "294d32ec-4972-427d-b596-28912d9a9e16",
      "metadata": {
        "id": "294d32ec-4972-427d-b596-28912d9a9e16"
      },
      "outputs": [],
      "source": [
        "from mindspore.common.initializer import Normal\n",
        "from mindspore import nn\n",
        "from mindspore.ops import TensorSummary\n",
        "\n",
        "class LinearNet(nn.Cell):\n",
        "    def __init__(self):\n",
        "        super(LinearNet, self).__init__()\n",
        "        self.fc = nn.Dense(1, 1, Normal(0.02), Normal(0.02))\n",
        "        self.tensor_summary = TensorSummary()\n",
        "\n",
        "    def construct(self, x):\n",
        "        x = self.fc(x)\n",
        "        self.tensor_summary(\"tensor\", x)\n",
        "        return x"
      ]
    },
    {
      "cell_type": "code",
      "execution_count": 8,
      "id": "494ac576-7ad4-47d9-9ee2-28bbca107cf0",
      "metadata": {
        "colab": {
          "base_uri": "https://localhost:8080/"
        },
        "id": "494ac576-7ad4-47d9-9ee2-28bbca107cf0",
        "outputId": "fe42173f-1ec5-431b-e2b5-cf4ac0775c18"
      },
      "outputs": [
        {
          "output_type": "stream",
          "name": "stdout",
          "text": [
            "Parameter (name=fc.weight, shape=(1, 1), dtype=Float32, requires_grad=True) [[-0.01225173]]\n",
            "Parameter (name=fc.bias, shape=(1,), dtype=Float32, requires_grad=True) [0.0049462]\n"
          ]
        }
      ],
      "source": [
        "net = LinearNet()\n",
        "model_params = net.trainable_params()\n",
        "for param in model_params:\n",
        "    print(param, param.asnumpy())"
      ]
    },
    {
      "cell_type": "code",
      "execution_count": 9,
      "id": "88e3809a-9e13-4d5f-99b1-25978dc205e8",
      "metadata": {
        "colab": {
          "base_uri": "https://localhost:8080/",
          "height": 269
        },
        "id": "88e3809a-9e13-4d5f-99b1-25978dc205e8",
        "outputId": "a53b50fa-4ef2-488f-afa7-5986157b6ff2"
      },
      "outputs": [
        {
          "output_type": "display_data",
          "data": {
            "text/plain": [
              "<Figure size 432x288 with 1 Axes>"
            ],
            "image/png": "[encoded data removed]"
          },
          "metadata": {
            "needs_background": "light"
          }
        }
      ],
      "source": [
        "from mindspore import Tensor\n",
        "\n",
        "x_model_label = np.array([-10, 10, 0.1])\n",
        "y_model_label = (x_model_label * Tensor(model_params[0]).asnumpy()[0][0] +\n",
        "                 Tensor(model_params[1]).asnumpy()[0])\n",
        "plt.axis([-10, 10, -20, 25])\n",
        "plt.scatter(x_eval_label, y_eval_label, color=\"red\", s=5)\n",
        "plt.plot(x_model_label, y_model_label, color=\"blue\")\n",
        "plt.plot(x_target_label, y_target_label, color=\"green\")\n",
        "plt.show()"
      ]
    },
    {
      "cell_type": "code",
      "execution_count": 10,
      "id": "5893a32f-e489-4626-850f-5467a7333d7c",
      "metadata": {
        "id": "5893a32f-e489-4626-850f-5467a7333d7c"
      },
      "outputs": [],
      "source": [
        "net = LinearNet()\n",
        "net_loss = nn.loss.MSELoss()"
      ]
    },
    {
      "cell_type": "code",
      "execution_count": 11,
      "id": "1c1bfb99-80e6-4732-b6d7-9965c9110c0c",
      "metadata": {
        "id": "1c1bfb99-80e6-4732-b6d7-9965c9110c0c"
      },
      "outputs": [],
      "source": [
        "opt = nn.Momentum(net.trainable_params(), learning_rate=0.005, momentum=0.9)\n"
      ]
    },
    {
      "cell_type": "code",
      "execution_count": 12,
      "id": "072206b7-ecbd-45e6-ada8-c1eaccd4e8d5",
      "metadata": {
        "id": "072206b7-ecbd-45e6-ada8-c1eaccd4e8d5"
      },
      "outputs": [],
      "source": [
        "from mindspore import Model\n",
        "\n",
        "model = Model(net, net_loss, opt)"
      ]
    },
    {
      "cell_type": "code",
      "execution_count": 13,
      "id": "7d8ea2ba-f5e3-4dbf-951b-7dd1cb6bc840",
      "metadata": {
        "id": "7d8ea2ba-f5e3-4dbf-951b-7dd1cb6bc840"
      },
      "outputs": [],
      "source": [
        "import matplotlib.pyplot as plt\n",
        "import time\n",
        "\n",
        "def plot_model_and_datasets(net, eval_data):\n",
        "    weight = net.trainable_params()[0]\n",
        "    bias = net.trainable_params()[1]\n",
        "    x = np.arange(-10, 10, 0.1)\n",
        "    y = x * Tensor(weight).asnumpy()[0][0] + Tensor(bias).asnumpy()[0]\n",
        "    x1, y1 = zip(*eval_data)\n",
        "    x_target = x\n",
        "    y_target = x_target * 2 + 3\n",
        "\n",
        "    plt.axis([-11, 11, -20, 25])\n",
        "    plt.scatter(x1, y1, color=\"red\", s=5)\n",
        "    plt.plot(x, y, color=\"blue\")\n",
        "    plt.plot(x_target, y_target, color=\"green\")\n",
        "    plt.show()\n",
        "   "
      ]
    },
    {
      "cell_type": "code",
      "execution_count": 14,
      "id": "382cf7ec-874d-4a8c-b28c-bf4d07f3a711",
      "metadata": {
        "id": "382cf7ec-874d-4a8c-b28c-bf4d07f3a711"
      },
      "outputs": [],
      "source": [
        "from IPython import display\n",
        "from mindspore.train.callback import Callback\n",
        "\n",
        "class ImageShowCallback(Callback):\n",
        "    def __init__(self, net, eval_data):\n",
        "        self.net = net\n",
        "        self.eval_data = eval_data\n",
        "\n",
        "    def step_end(self, run_context):\n",
        "        plot_model_and_datasets(self.net, self.eval_data)\n",
        "        display.clear_output(wait=True)"
      ]
    },
    {
      "cell_type": "code",
      "execution_count": 15,
      "id": "3ae97d5a-60b7-46f2-92a2-3f7e38f8ca58",
      "metadata": {
        "colab": {
          "base_uri": "https://localhost:8080/",
          "height": 304
        },
        "id": "3ae97d5a-60b7-46f2-92a2-3f7e38f8ca58",
        "outputId": "ff048473-f7c7-4f7d-f8e7-f51eec71e4f2"
      },
      "outputs": [
        {
          "output_type": "display_data",
          "data": {
            "text/plain": [
              "<Figure size 432x288 with 1 Axes>"
            ],
            "image/png": "[encoded data removed]"
          },
          "metadata": {
            "needs_background": "light"
          }
        },
        {
          "output_type": "stream",
          "name": "stdout",
          "text": [
            "Parameter (name=fc.weight, shape=(1, 1), dtype=Float32, requires_grad=True) [[2.0317235]]\n",
            "Parameter (name=fc.bias, shape=(1,), dtype=Float32, requires_grad=True) [3.0684237]\n"
          ]
        }
      ],
      "source": [
        "from mindspore.train.callback import SummaryCollector\n",
        "from mindspore.profiler import Profiler\n",
        "profiler = Profiler(output_path = './summary_dir/profiler_data')\n",
        "\n",
        "epoch = 1\n",
        "imageshow_cb = ImageShowCallback(net, eval_data)\n",
        "summary_collector = SummaryCollector(summary_dir='./summary_dir', collect_freq=1)\n",
        "model.train(epoch, ds_train, callbacks=[imageshow_cb, summary_collector], dataset_sink_mode=False)\n",
        "\n",
        "profiler.analyse()\n",
        "\n",
        "plot_model_and_datasets(net, eval_data)\n",
        "for param in net.trainable_params():\n",
        "    print(param, param.asnumpy())"
      ]
    },
    {
      "cell_type": "code",
      "execution_count": 17,
      "id": "586a174a-b480-4968-be51-7f129d112ecf",
      "metadata": {
        "colab": {
          "base_uri": "https://localhost:8080/"
        },
        "id": "586a174a-b480-4968-be51-7f129d112ecf",
        "outputId": "55f0d3dd-f12e-4af2-b964-fbaf47fd0fe6"
      },
      "outputs": [
        {
          "output_type": "stream",
          "name": "stdout",
          "text": [
            "  adding: content/ (stored 0%)\n",
            "  adding: content/.config/ (stored 0%)\n",
            "  adding: content/.config/config_sentinel (stored 0%)\n",
            "  adding: content/.config/logs/ (stored 0%)\n",
            "  adding: content/.config/logs/2022.04.19/ (stored 0%)\n",
            "  adding: content/.config/logs/2022.04.19/14.23.29.232715.log (deflated 54%)\n",
            "  adding: content/.config/logs/2022.04.19/14.23.07.556024.log (deflated 54%)\n",
            "  adding: content/.config/logs/2022.04.19/14.22.14.343189.log (deflated 91%)\n",
            "  adding: content/.config/logs/2022.04.19/14.22.38.448952.log (deflated 53%)\n",
            "  adding: content/.config/logs/2022.04.19/14.22.58.550404.log (deflated 86%)\n",
            "  adding: content/.config/logs/2022.04.19/14.23.28.447853.log (deflated 55%)\n",
            "  adding: content/.config/.last_opt_in_prompt.yaml (stored 0%)\n",
            "  adding: content/.config/configurations/ (stored 0%)\n",
            "  adding: content/.config/configurations/config_default (deflated 15%)\n",
            "  adding: content/.config/.last_survey_prompt.yaml (stored 0%)\n",
            "  adding: content/.config/.metricsUUID (stored 0%)\n",
            "  adding: content/.config/active_config (stored 0%)\n",
            "  adding: content/.config/.feature_flags_config.yaml (deflated 23%)\n",
            "  adding: content/.config/gce (stored 0%)\n",
            "  adding: content/.config/.last_update_check.json (deflated 23%)\n",
            "  adding: content/summary_dir/ (stored 0%)\n",
            "  adding: content/summary_dir/ckpt_dir/ (stored 0%)\n",
            "  adding: content/summary_dir/ckpt_dir/LinearNet_1_step.ckpt (deflated 16%)\n",
            "  adding: content/summary_dir/ckpt_dir/LinearNet_9_step.ckpt (deflated 16%)\n",
            "  adding: content/summary_dir/ckpt_dir/train_metadata.json (deflated 77%)\n",
            "  adding: content/summary_dir/ckpt_dir/LinearNet_13_step.ckpt (deflated 16%)\n",
            "  adding: content/summary_dir/ckpt_dir/LinearNet_11_step.ckpt (deflated 16%)\n",
            "  adding: content/summary_dir/ckpt_dir/LinearNet_10_step.ckpt (deflated 16%)\n",
            "  adding: content/summary_dir/ckpt_dir/LinearNet_18_step.ckpt (deflated 16%)\n",
            "  adding: content/summary_dir/ckpt_dir/LinearNet_15_step.ckpt (deflated 16%)\n",
            "  adding: content/summary_dir/ckpt_dir/LinearNet_14_step.ckpt (deflated 16%)\n",
            "  adding: content/summary_dir/ckpt_dir/LinearNet_5_step.ckpt (deflated 16%)\n",
            "  adding: content/summary_dir/ckpt_dir/LinearNet_8_step.ckpt (deflated 16%)\n",
            "  adding: content/summary_dir/ckpt_dir/LinearNet_19_step.ckpt (deflated 16%)\n",
            "  adding: content/summary_dir/ckpt_dir/LinearNet_16_step.ckpt (deflated 16%)\n",
            "  adding: content/summary_dir/ckpt_dir/LinearNet_2_step.ckpt (deflated 16%)\n",
            "  adding: content/summary_dir/ckpt_dir/LinearNet_4_step.ckpt (deflated 16%)\n",
            "  adding: content/summary_dir/ckpt_dir/LinearNet_7_step.ckpt (deflated 16%)\n",
            "  adding: content/summary_dir/ckpt_dir/LinearNet_6_step.ckpt (deflated 16%)\n",
            "  adding: content/summary_dir/ckpt_dir/LinearNet_17_step.ckpt (deflated 16%)\n",
            "  adding: content/summary_dir/ckpt_dir/LinearNet_3_step.ckpt (deflated 16%)\n",
            "  adding: content/summary_dir/ckpt_dir/LinearNet_12_step.ckpt (deflated 16%)\n",
            "  adding: content/summary_dir/events.out.events.summary.1650901625.0.6761c0965457_MS (deflated 73%)\n",
            "  adding: content/summary_dir/events.out.events.summary.1650901625.0.6761c0965457_lineage (deflated 15%)\n",
            "  adding: content/summary_dir/profiler_data/ (stored 0%)\n",
            "  adding: content/summary_dir/profiler_data/profiler/ (stored 0%)\n",
            "  adding: content/summary_dir/profiler_data/profiler/cpu_op_type_info_0.csv (deflated 42%)\n",
            "  adding: content/summary_dir/profiler_data/profiler/cpu_op_detail_info_0.csv (deflated 68%)\n",
            "  adding: content/summary_dir/profiler_data/profiler/cpu_op_execute_timestamp_0.txt (deflated 61%)\n",
            "  adding: content/sample_data/ (stored 0%)\n",
            "  adding: content/sample_data/README.md (deflated 42%)\n",
            "  adding: content/sample_data/anscombe.json (deflated 83%)\n",
            "  adding: content/sample_data/mnist_train_small.csv (deflated 88%)\n",
            "  adding: content/sample_data/california_housing_train.csv (deflated 79%)\n",
            "  adding: content/sample_data/california_housing_test.csv (deflated 76%)\n",
            "  adding: content/sample_data/mnist_test.csv (deflated 88%)\n"
          ]
        }
      ],
      "source": [
        "!zip -r /content/file.zip /content"
      ]
    },
    {
      "cell_type": "code",
      "execution_count": 18,
      "id": "616c1dd7-6deb-4556-a26c-6dbcf9bd1dc0",
      "metadata": {
        "colab": {
          "base_uri": "https://localhost:8080/",
          "height": 17
        },
        "id": "616c1dd7-6deb-4556-a26c-6dbcf9bd1dc0",
        "outputId": "e6d5c549-649a-4ce4-8724-d98b1a2f96a3"
      },
      "outputs": [
        {
          "output_type": "display_data",
          "data": {
            "text/plain": [
              "<IPython.core.display.Javascript object>"
            ],
            "application/javascript": [
              "\n",
              "    async function download(id, filename, size) {\n",
              "      if (!google.colab.kernel.accessAllowed) {\n",
              "        return;\n",
              "      }\n",
              "      const div = document.createElement('div');\n",
              "      const label = document.createElement('label');\n",
              "      label.textContent = `Downloading \"${filename}\": `;\n",
              "      div.appendChild(label);\n",
              "      const progress = document.createElement('progress');\n",
              "      progress.max = size;\n",
              "      div.appendChild(progress);\n",
              "      document.body.appendChild(div);\n",
              "\n",
              "      const buffers = [];\n",
              "      let downloaded = 0;\n",
              "\n",
              "      const channel = await google.colab.kernel.comms.open(id);\n",
              "      // Send a message to notify the kernel that we're ready.\n",
              "      channel.send({})\n",
              "\n",
              "      for await (const message of channel.messages) {\n",
              "        // Send a message to notify the kernel that we're ready.\n",
              "        channel.send({})\n",
              "        if (message.buffers) {\n",
              "          for (const buffer of message.buffers) {\n",
              "            buffers.push(buffer);\n",
              "            downloaded += buffer.byteLength;\n",
              "            progress.value = downloaded;\n",
              "          }\n",
              "        }\n",
              "      }\n",
              "      const blob = new Blob(buffers, {type: 'application/binary'});\n",
              "      const a = document.createElement('a');\n",
              "      a.href = window.URL.createObjectURL(blob);\n",
              "      a.download = filename;\n",
              "      div.appendChild(a);\n",
              "      a.click();\n",
              "      div.remove();\n",
              "    }\n",
              "  "
            ]
          },
          "metadata": {}
        },
        {
          "output_type": "display_data",
          "data": {
            "text/plain": [
              "<IPython.core.display.Javascript object>"
            ],
            "application/javascript": [
              "download(\"download_caaffeb5-9567-4b75-ac1d-ce65d0033223\", \"file.zip\", 7099999)"
            ]
          },
          "metadata": {}
        }
      ],
      "source": [
        "from google.colab import files\n",
        "files.download(\"/content/file.zip\")"
      ]
    },
    {
      "cell_type": "code",
      "source": [
        ""
      ],
      "metadata": {
        "id": "PBDBfKoKaN-K"
      },
      "id": "PBDBfKoKaN-K",
      "execution_count": null,
      "outputs": []
    }
  ],
  "metadata": {
    "kernelspec": {
      "display_name": "Python 3 (ipykernel)",
      "language": "python",
      "name": "python3"
    },
    "language_info": {
      "codemirror_mode": {
        "name": "ipython",
        "version": 3
      },
      "file_extension": ".py",
      "mimetype": "text/x-python",
      "name": "python",
      "nbconvert_exporter": "python",
      "pygments_lexer": "ipython3",
      "version": "3.9.5"
    },
    "colab": {
      "name": "huawei-task-02.ipynb",
      "provenance": []
    }
  },
  "nbformat": 4,
  "nbformat_minor": 5
}
